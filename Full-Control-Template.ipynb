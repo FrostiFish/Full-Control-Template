{
 "cells": [
  {
   "attachments": {},
   "cell_type": "markdown",
   "id": "c1de4dcb",
   "metadata": {},
   "source": [
    "# FABULOUS FEATHERS"
   ]
  },
  {
   "cell_type": "code",
   "execution_count": null,
   "id": "99d0d88a",
   "metadata": {},
   "outputs": [],
   "source": [
    "# Written with help from the Full Control documentation Jupyter notebooks\n",
    "# Created by Hannah Eikens for Final Bachelor Project @ TU/e, department of Industrial Design"
   ]
  },
  {
   "attachments": {},
   "cell_type": "markdown",
   "id": "64b4e2e1",
   "metadata": {},
   "source": [
    "Press ctrl+F9 to run all cells in this notebook, or press shift+enter to run each cell sequentially \n",
    "\n",
    "If you change one of the code cells, make sure you run it and all subsequent cells again (in order)\n",
    "\n",
    "*this document is a jupyter notebook - if they're new to you, check out how they work: [link](https://www.google.com/search?q=ipynb+tutorial), [link](https://jupyter.org/try-jupyter/retro/notebooks/?path=notebooks/Intro.ipynb), [link](https://colab.research.google.com/)*\n",
    "\n",
    "## Up Next: Patience\n",
    "\n",
    "the next code cell may take a while because running it causes several things to happen:\n",
    "- connect to a google colab server -> download the fullcontrol code -> install the fullcontrol code\n",
    "\n",
    "check out [other tutorials](https://github.com/FullControlXYZ/fullcontrol/blob/master/docs/README.md) to understand the python code for the FullControl design"
   ]
  },
  {
   "cell_type": "code",
   "execution_count": null,
   "id": "f3e2b6ff",
   "metadata": {},
   "outputs": [],
   "source": [
    "if 'google.colab' in str(get_ipython()):\n",
    "    !pip install git+https://github.com/FullControlXYZ/fullcontrol --quiet\n",
    "    !git clone https://github.com/FrostiFish/Fabulous-Feathers.git --quiet\n",
    "    from google.colab import files\n",
    "    import os\n",
    "    import sys\n",
    "    sys.path.append('/content/Fabulous-Feathers')\n",
    "\n",
    "import fullcontrol as fc\n",
    "from fabulousfeathers import FabulousFeather\n",
    "from math import pi, tau"
   ]
  },
  {
   "attachments": {},
   "cell_type": "markdown",
   "id": "80f4322f",
   "metadata": {},
   "source": [
    "## Printer Calibration"
   ]
  },
  {
   "attachments": {},
   "cell_type": "markdown",
   "id": "e996edcb",
   "metadata": {},
   "source": [
    "### Extruder Calibration\n",
    "\n",
    "Before starting any 3D print, it is important to verify a printer extrudes the requested amount of plastic. This is usually done by marking 100mm of filament and accordingly request 100mm of filament to be extruded by your printer. You can now calculate the percentual difference in actual and requested extrusion rate. This is then used to recalculate the printer's e-steps(Marlin) or `rotation_distance`(Klipper). For a complete guide on tuning a 3D printer's extruder, refer to [Extruder Calibration](https://ellis3dp.com/Print-Tuning-Guide/articles/extruder_calibration.html) by Ellis3DP"
   ]
  },
  {
   "attachments": {},
   "cell_type": "markdown",
   "id": "f3321491",
   "metadata": {},
   "source": [
    "### First Layer Squish and Z-Offset\n",
    "\n",
    "If a 3D print is to stick to the print bed during a print, it must have enough squish in order for it to do so. However, this layer is very often over squished. For a complete guide on dialing in you z-offset check out [First Layer Squish](https://ellis3dp.com/Print-Tuning-Guide/articles/first_layer_squish.html) from Ellis3DP's Print Tuning Guide. \n",
    "Make sure the print bed is clean in order for the print to stick.\n",
    "If the barbs are sticking together, increase the z-offset until they print as separate strands.  \n",
    "When the barbs sticking together regardless of tuning z-offset. Or the they might not be sticking to the bed, consider increasing the `barb_spacing`.\n",
    "In some senarios the barbs will stick together due to expasion of extruded material (e.g. thermal expansion or die swell), decrease `material_flow_percentage` or extrusion-multiplier/flow accordingly for your filament. Follow Ellis3DP's [Extrusion Multiplier] guide for robust method on approaching optimal extrusion rates."
   ]
  },
  {
   "attachments": {},
   "cell_type": "markdown",
   "id": "c7eac7d2",
   "metadata": {},
   "source": [
    "## Printer Parameters\n",
    "\n",
    "These settings serve as a baseline for any FFF 3D printer. This design was succesfully printer on a Voron 0.1 using these settings. Adjust `printer_name` to whichever model printer you use or if your printer is not listed use the most similar kind. Otherwise use `'generic'` and make sure to manually include the appropriate start Gcode for your printer of choice.\n",
    "If the print has trouble sticking, decrease `print_speed`.  \n",
    "A parameter which is important to remember is the `quill_speed`, as it will be referred to later."
   ]
  },
  {
   "cell_type": "code",
   "execution_count": null,
   "id": "6870c874",
   "metadata": {},
   "outputs": [],
   "source": [
    "# printer/gcode parameters\n",
    "\n",
    "design_name = 'fabulous_feathers'\n",
    "nozzle_diameter = 0.4 # mm\n",
    "nozzle_temp = 220 # PET-G\n",
    "bed_temp = 70 # PET-G\n",
    "print_speed = 1000 # mm/min - print speed of the vane\n",
    "quill_speed = 200 # mm/min - print speed of the quill and rachis\n",
    "fan_percent = 0\n",
    "retraction = True # enable if printer supports Gcode retraction\n",
    "z_lift = 0.6 # mm - z_lift from vane to quill and rachis to rachis layers\n",
    "material_flow_percent = 100\n",
    "vane_pressure_advance = None # linear-advance/pressure-advance for vane\n",
    "rachis_pressure_advance = None # linear-advance/pressure-advance for quill and rachis\n",
    "printer_name='generic' # generic / ultimaker2plus / prusa_i3 / ender_3 / cr_10 / bambulab_x1 / toolchanger_T0"
   ]
  },
  {
   "attachments": {},
   "cell_type": "markdown",
   "id": "b41a82c1",
   "metadata": {},
   "source": [
    "## Feather Design\n",
    "\n",
    "The design of Fabulous Feathers aims to achieve geometry as close to biological feathers as Fused Filament Fabrication will allow. The geometry consists of a quill (or calamus), rachis and vane. The vane is built up of individual barbs.\n",
    "The rachis and quill are printed in a very wide line, which gradually narrows into a fine tip.\n",
    "Built up of multiple \n",
    "\n",
    "![feather_anatomy.jpg](https://askabiologist.asu.edu/sites/default/files/resources/articles/bird_feathers/feather_anatomy.jpg)\n",
    "*picture sourced from: https://askabiologist.asu.edu/explore/feather-biology*"
   ]
  },
  {
   "attachments": {},
   "cell_type": "markdown",
   "id": "3feacb7b",
   "metadata": {
    "tags": [
     "hide-input"
    ]
   },
   "source": [
    "### Extrusion Width\n",
    "\n",
    "For a comprehesive guide on extrusion width and it's effects on part strength, check out [CNC Kitchen's blog post](https://www.cnckitchen.com/blog/the-effect-of-extrusion-width-on-strength-and-quality-of-3d-prints)\n",
    "The finer the barbs are printed, the more prone they are to breaking. Same applies to the quill and rachis."
   ]
  },
  {
   "attachments": {},
   "cell_type": "markdown",
   "id": "bb31e33c",
   "metadata": {},
   "source": [
    "### Maximum Extrusion Rate for Quill and Rachis\n",
    "\n",
    "A key feature of the Fabulous Feathers' design is the tickly extruded quill and rachis. If your printer cannot handle the amount of plastic extruded for this design feature, reduce the `quill_speed`, `quill_width` or `quill_EH` accordingly. The quill and rachis consist of multiple thicker layers. These layers are calculated based on the `quill_height` and `quill_EH`. For the most transparant result, less layers are desirable.  \n",
    "note: it is possible that your printer can extrude more plastic than configured by default, check out [CNC Kitchen](https://www.cnckitchen.com/blog/extrusion-system-benchmark-tool-for-fast-prints) for an accurate method to discover max flow rate or [Ellis3DP](https://ellis3dp.com/Print-Tuning-Guide/articles/determining_max_volumetric_flow_rate.html) for a quicker method. "
   ]
  },
  {
   "attachments": {},
   "cell_type": "markdown",
   "id": "6ae3a4f2",
   "metadata": {},
   "source": [
    "###  Adjust Design Parameters to Fit Your Needs\n",
    "\n",
    "In order to achieve a feather which suits your application, change design parameters accordingly. The total length of the feather will be the `quill_length`, `afterfeather_length` and `rachis_length`.  \n",
    "The width of the vane is set with `vane_width`. `vane_extent`determines how far the vane extends beyond the tip of the rachis.  \n",
    "`barb_rachis_connection` ensures the barbs are fused good well enough to the rachis. 1.5 times the extrusion width of the vane (`EW`) works well, however if issues occur with barb and rachis fusion, increase `barb_rachis_connection`."
   ]
  },
  {
   "cell_type": "code",
   "execution_count": null,
   "id": "0b0b70fa",
   "metadata": {},
   "outputs": [],
   "source": [
    "# design parameters\n",
    "\n",
    "EW = 1.0*nozzle_diameter # mm - extrusion width for vane\n",
    "EH = 0.2 # mm - extrusion height for vane\n",
    "\n",
    "x_offset = 15 # offset feather from home position x=0, y=0)\n",
    "y_offset = 15\n",
    "\n",
    "barb_spacing = 0.2 # mm - spacing in between barbs aka the \"hairs\" of the feather\n",
    "barb_rachis_connection = 1.5*EW # mm - fusion distance of barb into the rachis\n",
    "vane_width = 40 # mm - width of the hairy part of the feather\n",
    "vane_rachis_extent = 7.5 # mm - distance which the vane extends past the tip of the rachis\n",
    "rachis_length = 75 # mm - rachis aka shaft length to which the vane is attached\n",
    "quill_length = 30 # mm - length of the end of the shaft\n",
    "quill_width = 1.8 # mm - width of the quill\n",
    "quill_EH = 0.5 # mm - extrusion height of the quill\n",
    "quill_height = 2*quill_EH # mm - height of the quill\n",
    "afterfeather_length = 30 # mm - shaft length of the afterfeather\n",
    "afterfeather_extent = 2.75*afterfeather_length # mm - extent of afterfeather over the quill\n",
    "wipe_distance = 0 # mm - wipe distance at end of quill [depricated]\n",
    "\n",
    "fabulousfeather = FabulousFeather(start_point=fc.Point(x=x_offset, y=y_offset, z=0),\n",
    "                                  EW=EW,\n",
    "                                  EH=EH,\n",
    "                                  barb_spacing=barb_spacing,\n",
    "                                  barb_quill_connection=barb_rachis_connection,\n",
    "                                  vane_width=vane_width,\n",
    "                                  vane_rachis_extent=vane_rachis_extent,\n",
    "                                  rachis_length=rachis_length,\n",
    "                                  quill_length=quill_length,\n",
    "                                  quill_width=quill_width,\n",
    "                                  quill_EH=quill_EH,\n",
    "                                  quill_height=quill_height,\n",
    "                                  afterfeather_length=afterfeather_length,\n",
    "                                  afterfeather_extent=afterfeather_extent,\n",
    "                                  z_lift=z_lift,\n",
    "                                  wipe_distance=wipe_distance,\n",
    "                                  vane_speed=print_speed,\n",
    "                                  quill_speed=quill_speed,\n",
    "                                  retraction=retraction,\n",
    "                                  vane_PA=vane_pressure_advance,\n",
    "                                  rachis_PA=rachis_pressure_advance\n",
    "                                 )"
   ]
  },
  {
   "cell_type": "code",
   "execution_count": null,
   "id": "a8b11fc3",
   "metadata": {},
   "outputs": [],
   "source": [
    "# generate the design (make sure you've run the above cells before running this cell)\n",
    "\n",
    "steps = []\n",
    "\n",
    "steps = fc.move_polar(fabulousfeather.steps(), fc.Point(x=x_offset, y=y_offset, z=0), 0, pi/4)"
   ]
  },
  {
   "attachments": {},
   "cell_type": "markdown",
   "id": "a804e6d9",
   "metadata": {},
   "source": [
    "## Inspect Design\n",
    "\n",
    "Check the plot of the feather in order to ensure it printed with ample spacing from the edge of the bed. Adjust `x_offset`, `y_offset` and the design parameters accordingly to make sure the feather will fit on the print bed."
   ]
  },
  {
   "cell_type": "code",
   "execution_count": null,
   "id": "baf64b0f",
   "metadata": {
    "scrolled": false
   },
   "outputs": [],
   "source": [
    "# preview the design\n",
    "\n",
    "fc.transform(steps, 'plot', fc.PlotControls(tube_type = 'cylinders'))\n",
    "# uncomment the next line to create a neat preview (click the top-left button in the plot for a .png file) - post and tag @FullControlXYZ :)\n",
    "# fc.transform(steps, 'plot', fc.PlotControls(tube_type = 'cylinders', neat_for_publishing=True)) "
   ]
  },
  {
   "attachments": {},
   "cell_type": "markdown",
   "id": "d15ffab5",
   "metadata": {},
   "source": [
    "## Generate Gcode file\n",
    "Like mentioned earlier, if you are using `printer_name = 'generic'`, make sure to manually include appropriate start Gcode in the generated file. The file will be located in the same directory as this notebook."
   ]
  },
  {
   "cell_type": "code",
   "execution_count": null,
   "id": "f4da2c25",
   "metadata": {},
   "outputs": [],
   "source": [
    "# create and download gcode for the design\n",
    "\n",
    "gcode_controls = fc.GcodeControls(\n",
    "    printer_name = printer_name, \n",
    "    save_as = design_name,\n",
    "    include_date = True,\n",
    "    initialization_data={\n",
    "    'primer': 'front_lines_then_x', \n",
    "    'print_speed': print_speed,\n",
    "    \"nozzle_temp\": nozzle_temp,\n",
    "    \"bed_temp\": bed_temp,\n",
    "    'fan_percent': fan_percent,\n",
    "    \"extrusion_width\": EW,\n",
    "    \"extrusion_height\": EH,\n",
    "    \"material_flow_percent\": material_flow_percent\n",
    "    }\n",
    ")\n",
    "gcode = fc.transform(steps, 'gcode', gcode_controls)\n",
    "\n",
    "if 'google.colab' in str(get_ipython()):\n",
    "    files.download(max(os.listdir(), key=os.path.getctime))"
   ]
  }
 ],
 "metadata": {
  "celltoolbar": "Raw-celnotatie",
  "kernelspec": {
   "display_name": "Python 3 (ipykernel)",
   "language": "python",
   "name": "python3"
  },
  "language_info": {
   "codemirror_mode": {
    "name": "ipython",
    "version": 3
   },
   "file_extension": ".py",
   "mimetype": "text/x-python",
   "name": "python",
   "nbconvert_exporter": "python",
   "pygments_lexer": "ipython3",
   "version": "3.10.11"
  }
 },
 "nbformat": 4,
 "nbformat_minor": 5
}
