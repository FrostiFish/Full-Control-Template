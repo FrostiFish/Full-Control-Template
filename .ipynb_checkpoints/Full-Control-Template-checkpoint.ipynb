{
 "cells": [
  {
   "cell_type": "markdown",
   "id": "c1de4dcb",
   "metadata": {},
   "source": [
    "# FULL CONTROL TEMPLATE"
   ]
  },
  {
   "cell_type": "markdown",
   "id": "64b4e2e1",
   "metadata": {},
   "source": [
    "Press ctrl+F9 to run all cells in this notebook, or press shift+enter to run each cell sequentially \n",
    "\n",
    "If you change one of the code cells, make sure you run it and all subsequent cells again (in order)\n",
    "\n",
    "*this document is a jupyter notebook - if they're new to you, check out how they work: [link](https://www.google.com/search?q=ipynb+tutorial), [link](https://jupyter.org/try-jupyter/retro/notebooks/?path=notebooks/Intro.ipynb), [link](https://colab.research.google.com/)*\n",
    "\n",
    "## Up Next: Patience\n",
    "\n",
    "the next code cell may take a while because running it causes several things to happen:\n",
    "- connect to a google colab server -> download the fullcontrol code -> install the fullcontrol code\n",
    "\n",
    "check out [other tutorials](https://github.com/FullControlXYZ/fullcontrol/blob/master/docs/README.md) to understand the python code for the FullControl design"
   ]
  },
  {
   "cell_type": "code",
   "execution_count": null,
   "id": "f3e2b6ff",
   "metadata": {},
   "outputs": [],
   "source": [
    "if 'google.colab' in str(get_ipython()):\n",
    "    !pip install git+https://github.com/FullControlXYZ/fullcontrol --quiet\n",
    "    !git clone https://github.com/FrostiFish/Fabulous-Feathers.git --quiet\n",
    "    from google.colab import files\n",
    "    import os\n",
    "    import sys\n",
    "    sys.path.append('/content/Fabulous-Feathers')\n",
    "\n",
    "import fullcontrol as fc\n",
    "from math import pi, tau"
   ]
  },
  {
   "cell_type": "markdown",
   "id": "c7eac7d2",
   "metadata": {},
   "source": [
    "## Printer Parameters\n",
    "\n",
    "These settings serve as a baseline for any FDM/FFF 3D printer."
   ]
  },
  {
   "cell_type": "code",
   "execution_count": null,
   "id": "6870c874",
   "metadata": {},
   "outputs": [],
   "source": [
    "# printer/gcode parameters\n",
    "\n",
    "design_name = 'my_design'\n",
    "nozzle_temp = 200 # PLA\n",
    "bed_temp = 60 # PLA\n",
    "print_speed = 1000 # mm/min\n",
    "fan_percent = 100\n",
    "material_flow_percent = 100\n",
    "printer_name='generic' # generic / ultimaker2plus / prusa_i3 / ender_3 / cr_10 / bambulab_x1 / toolchanger_T0"
   ]
  },
  {
   "cell_type": "markdown",
   "id": "3feacb7b",
   "metadata": {
    "tags": [
     "hide-input"
    ]
   },
   "source": [
    "### Extrusion Width\n",
    "\n",
    "For a comprehesive guide on extrusion width and it's effects on part strength, check out [CNC Kitchen's blog post](https://www.cnckitchen.com/blog/the-effect-of-extrusion-width-on-strength-and-quality-of-3d-prints)\n",
    "The finer the barbs are printed, the more prone they are to breaking. Same applies to the quill and rachis."
   ]
  },
  {
   "cell_type": "code",
   "execution_count": null,
   "id": "0b0b70fa",
   "metadata": {},
   "outputs": [],
   "source": [
    "# design parameters\n",
    "\n",
    "EW = 0.4 # mm - extrusion width\n",
    "EH = 0.2 # mm - extrusion height\n",
    "\n",
    "x_offset = 0 # mm - offset nozzle from home position (origin)\n",
    "y_offset = 0 # mm\n",
    "\n",
    "# add additional parameters below this line #\n"
   ]
  },
  {
   "cell_type": "code",
   "execution_count": null,
   "id": "a8b11fc3",
   "metadata": {},
   "outputs": [],
   "source": [
    "# generate the design (make sure you've run the above cells before running this cell)\n",
    "\n",
    "steps = []\n",
    "\n",
    "# add design parameters below this line #\n",
    "\n",
    "\n",
    "# offset design from home position (origin)\n",
    "steps = fc.move(steps, fc.Vector(x=x_offset, y=y_offset))"
   ]
  },
  {
   "cell_type": "markdown",
   "id": "a804e6d9",
   "metadata": {},
   "source": [
    "## Inspect Design\n",
    "\n",
    "Check the plot of the design in order to ensure it printed with ample spacing from the edge of the bed. Adjust `x_offset`, `y_offset` and the design parameters accordingly to make sure the print will fit on the print bed."
   ]
  },
  {
   "cell_type": "code",
   "execution_count": null,
   "id": "baf64b0f",
   "metadata": {
    "scrolled": false
   },
   "outputs": [],
   "source": [
    "# preview the design\n",
    "\n",
    "fc.transform(steps, 'plot')\n",
    "# uncomment the next line to create a neat preview (click the top-left button in the plot for a .png file) - post and tag @FullControlXYZ :)\n",
    "# fc.transform(steps, 'plot', fc.PlotControls(tube_type = 'cylinders', neat_for_publishing=True)) "
   ]
  },
  {
   "cell_type": "markdown",
   "id": "d15ffab5",
   "metadata": {},
   "source": [
    "## Generate Gcode file\n",
    "Like mentioned earlier, if you are using `printer_name = 'generic'`, make sure to manually include appropriate start Gcode in the generated file. The file will be located in the same directory as this notebook."
   ]
  },
  {
   "cell_type": "code",
   "execution_count": null,
   "id": "f4da2c25",
   "metadata": {},
   "outputs": [],
   "source": [
    "# create and download gcode for the design\n",
    "\n",
    "gcode_controls = fc.GcodeControls(\n",
    "    printer_name = printer_name, \n",
    "    save_as = design_name,\n",
    "    include_date = True,\n",
    "    initialization_data={\n",
    "    'primer': 'front_lines_then_x', \n",
    "    'print_speed': print_speed,\n",
    "    \"nozzle_temp\": nozzle_temp,\n",
    "    \"bed_temp\": bed_temp,\n",
    "    'fan_percent': fan_percent,\n",
    "    \"extrusion_width\": EW,\n",
    "    \"extrusion_height\": EH,\n",
    "    \"material_flow_percent\": material_flow_percent\n",
    "    }\n",
    ")\n",
    "gcode = fc.transform(steps, 'gcode', gcode_controls)\n",
    "\n",
    "if 'google.colab' in str(get_ipython()):\n",
    "    files.download(max(os.listdir(), key=os.path.getctime))"
   ]
  }
 ],
 "metadata": {
  "celltoolbar": "Raw-celnotatie",
  "kernelspec": {
   "display_name": "Python 3 (ipykernel)",
   "language": "python",
   "name": "python3"
  },
  "language_info": {
   "codemirror_mode": {
    "name": "ipython",
    "version": 3
   },
   "file_extension": ".py",
   "mimetype": "text/x-python",
   "name": "python",
   "nbconvert_exporter": "python",
   "pygments_lexer": "ipython3",
   "version": "3.10.11"
  }
 },
 "nbformat": 4,
 "nbformat_minor": 5
}
